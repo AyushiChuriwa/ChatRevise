{
 "cells": [
  {
   "cell_type": "code",
   "id": "initial_id",
   "metadata": {
    "collapsed": true,
    "ExecuteTime": {
     "end_time": "2024-10-31T20:04:29.344452Z",
     "start_time": "2024-10-31T20:04:28.998358Z"
    }
   },
   "source": [
    "import pandas as pd\n",
    "\n",
    "def compute_rate(df1, df2):\n",
    "    merged_df = pd.merge(df1, df2, on='Question Name', how='right')\n",
    "    filtered_all = merged_df[\n",
    "        (merged_df['Stage'] == 'Submitting')\n",
    "    ]\n",
    "    filtered_df = merged_df[\n",
    "        (merged_df['Iteration Solved/ Failed'] == 1) &\n",
    "        (merged_df['Stage'] == 'Submitting')\n",
    "    ]\n",
    "    filtered_df_wf = merged_df[\n",
    "        (merged_df['Iteration Solved/ Failed'] > 1) &\n",
    "        (merged_df['Stage'] == 'Submitting')\n",
    "    ]\n",
    "    \n",
    "    row_count = len(filtered_df)\n",
    "    \n",
    "    print(len(filtered_all))\n",
    "    print(\"Interpreted count with feedback\", len(filtered_df_wf))\n",
    "    print(\"Interpreted count without feedback\", row_count)\n",
    "    \n",
    "    print(\"Submitted count with feedback\", len(filtered_df_wf[(filtered_df_wf[\"Total Correct\"]==filtered_df_wf[\"Total Testcases\"])]))\n",
    "    print(\"Submitted count without feedback\", len(filtered_df[(filtered_df[\"Total Correct\"]==filtered_df[\"Total Testcases\"])]))"
   ],
   "outputs": [],
   "execution_count": 1
  },
  {
   "metadata": {
    "ExecuteTime": {
     "end_time": "2024-10-31T20:08:04.383387Z",
     "start_time": "2024-10-31T20:07:57.185207Z"
    }
   },
   "cell_type": "code",
   "source": [
    "file1 = \".\\Solutions\\Run5\\GPT3.5\\ResponseList_gpt-3.5-turbo_no_order.xlsx\"\n",
    "file2 = \".\\Solutions\\solvalidations\\Validation35.xlsx\"\n",
    "\n",
    "df1 = pd.read_excel(file1)\n",
    "df2 = pd.read_excel(file2)\n",
    "compute_rate(df1,df2)"
   ],
   "id": "c4493c63d30d4f24",
   "outputs": [
    {
     "name": "stdout",
     "output_type": "stream",
     "text": [
      "1310\n",
      "Interpreted count with feedback 345\n",
      "Interpreted count without feedback 965\n",
      "Submitted count with feedback 194\n",
      "Submitted count without feedback 736\n"
     ]
    }
   ],
   "execution_count": 3
  },
  {
   "metadata": {
    "ExecuteTime": {
     "end_time": "2024-10-31T20:09:18.628395Z",
     "start_time": "2024-10-31T20:09:17.970570Z"
    }
   },
   "cell_type": "code",
   "source": [
    "file1 = \".\\Solutions\\Run5\\GPT4omini\\ResponseList_gpt-4o-mini_no_order.xlsx\"\n",
    "file2 = \".\\Solutions\\solvalidations\\Validation4omini.xlsx\"\n",
    "\n",
    "df1 = pd.read_excel(file1)\n",
    "df2 = pd.read_excel(file2)\n",
    "compute_rate(df1,df2)"
   ],
   "id": "60dcedf9a0924f1f",
   "outputs": [
    {
     "name": "stdout",
     "output_type": "stream",
     "text": [
      "1701\n",
      "Interpreted count with feedback 341\n",
      "Interpreted count without feedback 1360\n",
      "Submitted count with feedback 182\n",
      "Submitted count without feedback 1075\n"
     ]
    }
   ],
   "execution_count": 4
  },
  {
   "metadata": {
    "ExecuteTime": {
     "end_time": "2024-10-31T20:09:33.202905Z",
     "start_time": "2024-10-31T20:09:32.584596Z"
    }
   },
   "cell_type": "code",
   "source": [
    "file1 = \".\\Solutions\\Run5\\GPT4o\\ResponseList_gpt-4o_no_order.xlsx\"\n",
    "file2 = \".\\Solutions\\solvalidations\\Validation4o.xlsx\"\n",
    "\n",
    "df1 = pd.read_excel(file1)\n",
    "df2 = pd.read_excel(file2)\n",
    "compute_rate(df1,df2)"
   ],
   "id": "b9e5e988382e7a5a",
   "outputs": [
    {
     "name": "stdout",
     "output_type": "stream",
     "text": [
      "1853\n",
      "Interpreted count with feedback 294\n",
      "Interpreted count without feedback 1559\n",
      "Submitted count with feedback 178\n",
      "Submitted count without feedback 1309\n"
     ]
    }
   ],
   "execution_count": 5
  },
  {
   "metadata": {
    "ExecuteTime": {
     "end_time": "2024-10-31T20:09:48.220896Z",
     "start_time": "2024-10-31T20:09:47.518915Z"
    }
   },
   "cell_type": "code",
   "source": [
    "file1 = \".\\Solutions\\o1mini\\ResponseList_o1-mini-no_order.xlsx\"\n",
    "file2 = \".\\Solutions\\solvalidations\\Validationo1.xlsx\"\n",
    "\n",
    "df1 = pd.read_excel(file1)\n",
    "df2 = pd.read_excel(file2)\n",
    "compute_rate(df1,df2)"
   ],
   "id": "c60d77aed64903ff",
   "outputs": [
    {
     "name": "stdout",
     "output_type": "stream",
     "text": [
      "2036\n",
      "Interpreted count with feedback 450\n",
      "Interpreted count without feedback 1585\n",
      "Submitted count with feedback 311\n",
      "Submitted count without feedback 1383\n"
     ]
    }
   ],
   "execution_count": 6
  },
  {
   "metadata": {},
   "cell_type": "code",
   "outputs": [],
   "execution_count": null,
   "source": "",
   "id": "11e986ed417489c5"
  }
 ],
 "metadata": {
  "kernelspec": {
   "display_name": "Python 3",
   "language": "python",
   "name": "python3"
  },
  "language_info": {
   "codemirror_mode": {
    "name": "ipython",
    "version": 2
   },
   "file_extension": ".py",
   "mimetype": "text/x-python",
   "name": "python",
   "nbconvert_exporter": "python",
   "pygments_lexer": "ipython2",
   "version": "2.7.6"
  }
 },
 "nbformat": 4,
 "nbformat_minor": 5
}
